{
 "cells": [
  {
   "cell_type": "markdown",
   "metadata": {},
   "source": [
    "TD 1 \n",
    "-------------------"
   ]
  },
  {
   "cell_type": "markdown",
   "metadata": {},
   "source": [
    "Exercice 1 :\n",
    "    --------------------"
   ]
  },
  {
   "cell_type": "code",
   "execution_count": 186,
   "metadata": {
    "collapsed": false
   },
   "outputs": [],
   "source": [
    "from tkinter import *\n",
    "\n",
    "def dot(cnv, C, R=6, color='red'):\n",
    "    xC, yC=C\n",
    "    A=(xC-R, yC-R)\n",
    "    B=(xC+R, yC+R)\n",
    "    return cnv.create_oval(A,B, fill=color, outline=color)\n",
    "\n",
    "WIDTH=780\n",
    "HEIGHT=780\n",
    "\n",
    "\n",
    "root = Tk()\n",
    "cnv = Canvas(root, width=WIDTH, height=HEIGHT, background=\"blue\")\n",
    "cnv.pack()\n",
    "\n",
    "C = (50, 50)\n",
    "\n",
    "for j in range(0,7):\n",
    "    n=50+(j-1)*110\n",
    "    for i in range (0,8):\n",
    "        dot(cnv, C, R=50, color=\"white\")\n",
    "        C=(50+i*110,n)\n",
    "    C=(50,n)\n",
    "\n",
    "\n",
    "\n",
    "root.mainloop()"
   ]
  },
  {
   "cell_type": "markdown",
   "metadata": {},
   "source": [
    "Exercice 2 :\n",
    "    -------------\n",
    "   "
   ]
  },
  {
   "cell_type": "code",
   "execution_count": 187,
   "metadata": {
    "collapsed": false
   },
   "outputs": [],
   "source": [
    "from random import sample\n",
    "from tkinter import Tk, Canvas\n",
    "\n",
    "COLORS=[\"ivory\", \"lime green\", \"red\", \"gray75\"]\n",
    "\n",
    "def random_forest(p, n):\n",
    "    units=[(line,col) for col in range(n) for line in range(n)]\n",
    "    ntrees=int(n**2*p)\n",
    "    trees=sample(units,ntrees)\n",
    "    states=[[0]*n for _ in range(n)]\n",
    "    for (i,j) in trees:\n",
    "        states[i][j]=1\n",
    "    return states\n",
    "\n",
    "def fill_cell(states, line, col):\n",
    "    A=(unit*col, unit*line)\n",
    "    B=(unit*(col+1), unit*(line+1))\n",
    "    state=states[line][col]\n",
    "    color=COLORS[state]\n",
    "    cnv.create_rectangle(A, B, fill=color, outline='')\n",
    "\n",
    "def fill(states):\n",
    "    n=len(states)\n",
    "    for line in range(n):\n",
    "        for col in range(n):\n",
    "            fill_cell(states, line, col)\n",
    "\n",
    "p=0.60\n",
    "n=50\n",
    "unit=10\n",
    "\n",
    "s\n",
    "root = Tk()\n",
    "cnv = Canvas(root, width=unit*n, height=unit*n, background=\"ivory\")\n",
    "cnv.pack()\n",
    "\n",
    "\n",
    "states=random_forest(p, n)\n",
    "\n",
    "\n",
    "fill(states)\n",
    "\n",
    "root.mainloop()"
   ]
  },
  {
   "cell_type": "markdown",
   "metadata": {},
   "source": [
    "Exercice 3:\n",
    "--------------"
   ]
  },
  {
   "cell_type": "code",
   "execution_count": 18,
   "metadata": {
    "collapsed": false
   },
   "outputs": [],
   "source": [
    "\n",
    "\n",
    "from tkinter import *\n",
    "\n",
    "board=[[1, 2, 3, 4],\n",
    "       [5, 6, 7, 8],\n",
    "       [9, 10,11, 12],\n",
    "       [13, 14, 15,\"\" ]]\n",
    "\n",
    "FONT=('Ubuntu', 27, 'bold')\n",
    "master=Tk()\n",
    "cnv=Canvas(master, width=400, height=400, bg='gray')\n",
    "cnv.pack()\n",
    "\n",
    "for i in range(0,4):\n",
    "    for j in range(0,4):\n",
    "        x, y=100*j, 100*i\n",
    "        A, B, C=(x, y), (x+100, y+100), (x+50, y+50)\n",
    "        R=cnv.create_rectangle(A, B, fill=\"blue\")\n",
    "        T=cnv.create_text(C, text=board[i][j], fill=\"yellow\",\n",
    "                            font=FONT)\n",
    "cnv.delete(R)\n",
    "cnv.delete(T)\n",
    "master.mainloop()"
   ]
  },
  {
   "cell_type": "markdown",
   "metadata": {
    "collapsed": true
   },
   "source": [
    "Exercice 4: \n",
    "-------------"
   ]
  },
  {
   "cell_type": "code",
   "execution_count": 144,
   "metadata": {
    "collapsed": false
   },
   "outputs": [],
   "source": [
    "from tkinter import *\n",
    "def dot(cnv, C, R=6, color='red'):\n",
    "    xC, yC=C\n",
    "    A=(xC-R, yC-R)\n",
    "    B=(xC+R, yC+R)\n",
    "    return cnv.create_oval(A,B, fill=color, outline=color)\n",
    "\n",
    "PAD=200\n",
    "DIM=800\n",
    "WIDTH=DIM+PAD\n",
    "HEIGHT=DIM+PAD\n",
    "\n",
    "root = Tk()\n",
    "cnv = Canvas(root, width=WIDTH, height=HEIGHT, background=\"ivory\")\n",
    "cnv.pack()\n",
    "\n",
    "C = (WIDTH//2, HEIGHT//2)\n",
    "\n",
    "dot(cnv, C, R=DIM//2, color=\"coral\")\n",
    "\n",
    "C=(2000,2000)\n",
    "for j in range(0,7):\n",
    "    n=320+(j-1)*90\n",
    "    for i in range (0,4):\n",
    "        dot(cnv, C, R=20, color=\"black\")\n",
    "        C=(410+i*90,n)\n",
    "    C=(5000,n)\n",
    "for j in range(0,3):\n",
    "    n=500+(j-1)*90\n",
    "    for i in range (0,8):\n",
    "        dot(cnv, C, R=20, color=\"black\")\n",
    "        C=(230+i*90,n)\n",
    "    C=(5000,n)\n",
    "\n",
    "dot(cnv,(500,500) , R=20, color=\"grey\")\n",
    "\n",
    "\n",
    "\n",
    "\n",
    "root.mainloop()"
   ]
  },
  {
   "cell_type": "markdown",
   "metadata": {},
   "source": [
    "Exercice 5:\n",
    " -----------------\n",
    "   "
   ]
  },
  {
   "cell_type": "code",
   "execution_count": 157,
   "metadata": {
    "collapsed": false
   },
   "outputs": [],
   "source": [
    "from tkinter import Tk, Canvas\n",
    "\n",
    "root=Tk()\n",
    "cnv=Canvas(root, width=1000, height=1000, bg=\"ivory\")\n",
    "cnv.pack()\n",
    "\n",
    "cnv.create_line(600, 300,400, 220, width=5, arrow='last')\n"
   ]
  },
  {
   "cell_type": "code",
   "execution_count": 182,
   "metadata": {
    "collapsed": false
   },
   "outputs": [],
   "source": [
    "from tkinter import *\n",
    "from random import randrange\n",
    "\n",
    "WIDTH=1000\n",
    "HEIGHT=1000\n",
    "\n",
    "root=Tk()\n",
    "cnv=Canvas(root, width=WIDTH, height=HEIGHT, bg=\"gray\")\n",
    "cnv.pack()\n",
    "\n",
    "def line(A, C):\n",
    "    B=point(A, C, -L)\n",
    "    D=point(A, C, WIDTH)\n",
    "\n",
    "    cnv.create_line(B,A, width=7, fill=\"spring green\", arrow='last',\n",
    "                    arrowshape=(18,30, 8))\n",
    "    cnv.create_line(A,D, fill=\"spring green\", dash=3)\n",
    "\n",
    "L=60\n",
    "randrange(0,1000)\n",
    "for _ in range(4):\n",
    "    A=(randrange(WIDTH), randrange(HEIGHT))\n",
    "    line(A,C)\n",
    "\n",
    "root.mainloop()"
   ]
  },
  {
   "cell_type": "code",
   "execution_count": null,
   "metadata": {
    "collapsed": true
   },
   "outputs": [],
   "source": []
  },
  {
   "cell_type": "code",
   "execution_count": null,
   "metadata": {
    "collapsed": true
   },
   "outputs": [],
   "source": []
  }
 ],
 "metadata": {
  "kernelspec": {
   "display_name": "Python 3",
   "language": "python",
   "name": "python3"
  },
  "language_info": {
   "codemirror_mode": {
    "name": "ipython",
    "version": 3
   },
   "file_extension": ".py",
   "mimetype": "text/x-python",
   "name": "python",
   "nbconvert_exporter": "python",
   "pygments_lexer": "ipython3",
   "version": "3.5.3"
  }
 },
 "nbformat": 4,
 "nbformat_minor": 2
}
